{
 "cells": [
  {
   "cell_type": "markdown",
   "metadata": {},
   "source": [
    "# Lessons per day"
   ]
  },
  {
   "cell_type": "code",
   "execution_count": 1,
   "metadata": {
    "collapsed": true
   },
   "outputs": [],
   "source": [
    "import struct"
   ]
  },
  {
   "cell_type": "code",
   "execution_count": 2,
   "metadata": {},
   "outputs": [
    {
     "name": "stdout",
     "output_type": "stream",
     "text": [
      "[0, 1, 2, 3, 8, 9, 22]\n"
     ]
    }
   ],
   "source": [
    "lessons_array = [0, 1, 2, 3, 8, 9, 22] # lessons held that day\n",
    "print(lessons_array)"
   ]
  },
  {
   "cell_type": "code",
   "execution_count": 3,
   "metadata": {},
   "outputs": [
    {
     "name": "stdout",
     "output_type": "stream",
     "text": [
      "4195087\n"
     ]
    }
   ],
   "source": [
    "lessons_int = 0 # we want to use as little space as possible\n",
    "for lesson in lessons_array:\n",
    "    lessons_int += 2 ** lesson # we add the power of each lesson to our root integer\n",
    "print(lessons_int)"
   ]
  },
  {
   "cell_type": "code",
   "execution_count": 4,
   "metadata": {},
   "outputs": [
    {
     "name": "stdout",
     "output_type": "stream",
     "text": [
      "010000000000001100001111\n"
     ]
    }
   ],
   "source": [
    "lessons_bin = bin(lessons_int)[2:].zfill(24)\n",
    "# the binary string is human-readable: from right to left, the lessons hold are marked with 1\n",
    "print(lessons_bin)"
   ]
  },
  {
   "cell_type": "code",
   "execution_count": 5,
   "metadata": {},
   "outputs": [
    {
     "name": "stdout",
     "output_type": "stream",
     "text": [
      "260\n",
      "000000000000000100000100\n"
     ]
    }
   ],
   "source": [
    "lessons_query = [2,8] # we want to know, if these lessons are blocked\n",
    "lessons_query_int = 0\n",
    "for lesson in lessons_query:\n",
    "    # lessons_query_int += 2 ** lesson\n",
    "    lessons_query_int += 1 << lesson # equivalent notation with bit shift\n",
    "print(lessons_query_int)\n",
    "lessons_query_bin = bin(lessons_query_int)[2:].zfill(24)\n",
    "print(lessons_query_bin)"
   ]
  },
  {
   "cell_type": "code",
   "execution_count": 6,
   "metadata": {},
   "outputs": [
    {
     "name": "stdout",
     "output_type": "stream",
     "text": [
      "lessons not found\n"
     ]
    }
   ],
   "source": [
    "if (lessons_int & lessons_query_int) is lessons_query_int:\n",
    "    print('lessons are found')\n",
    "else:\n",
    "    print('lessons not found')"
   ]
  },
  {
   "cell_type": "code",
   "execution_count": 7,
   "metadata": {},
   "outputs": [],
   "source": [
    "def lessonshold(fn_lessons_query, verbose = 0):\n",
    "    fn_lessons_query_int = 0\n",
    "    for fn_lesson in fn_lessons_query:\n",
    "        fn_lessons_query_int += 1 << fn_lesson\n",
    "    result = (lessons_int & fn_lessons_query_int)\n",
    "    if (verbose == 1):\n",
    "        prettyprint (lessons_int)\n",
    "        prettyprint (fn_lessons_query_int)\n",
    "        prettyprint (result)\n",
    "    if result == fn_lessons_query_int:\n",
    "        print('lessons found')\n",
    "    else:\n",
    "        print('lessons not found')"
   ]
  },
  {
   "cell_type": "code",
   "execution_count": 8,
   "metadata": {},
   "outputs": [],
   "source": [
    "def prettyprint(intin):\n",
    "    numbers = list((intin >> i) & 0xFF for i in range(0,24,8))\n",
    "    asints = list(reversed(numbers))\n",
    "    aschr = list(map(chr,asints))\n",
    "    astext = ''.join(aschr)\n",
    "    print(bin(intin)[2:].zfill(24), ' - ', str(intin), ' - ', asints, ' - ', aschr, ' - \"' , astext, '\"')"
   ]
  },
  {
   "cell_type": "code",
   "execution_count": 9,
   "metadata": {},
   "outputs": [
    {
     "name": "stdout",
     "output_type": "stream",
     "text": [
      "lessons found\n"
     ]
    }
   ],
   "source": [
    "lessonshold([1])"
   ]
  },
  {
   "cell_type": "code",
   "execution_count": 10,
   "metadata": {},
   "outputs": [
    {
     "name": "stdout",
     "output_type": "stream",
     "text": [
      "lessons not found\n"
     ]
    }
   ],
   "source": [
    "lessonshold([4])"
   ]
  },
  {
   "cell_type": "code",
   "execution_count": 11,
   "metadata": {},
   "outputs": [
    {
     "name": "stdout",
     "output_type": "stream",
     "text": [
      "lessons found\n"
     ]
    }
   ],
   "source": [
    "lessonshold([0])"
   ]
  },
  {
   "cell_type": "code",
   "execution_count": 12,
   "metadata": {},
   "outputs": [
    {
     "name": "stdout",
     "output_type": "stream",
     "text": [
      "lessons found\n"
     ]
    }
   ],
   "source": [
    "lessonshold([1,3])"
   ]
  },
  {
   "cell_type": "code",
   "execution_count": 13,
   "metadata": {},
   "outputs": [
    {
     "name": "stdout",
     "output_type": "stream",
     "text": [
      "lessons not found\n"
     ]
    }
   ],
   "source": [
    "lessonshold([2,23])"
   ]
  },
  {
   "cell_type": "code",
   "execution_count": 14,
   "metadata": {},
   "outputs": [
    {
     "name": "stdout",
     "output_type": "stream",
     "text": [
      "lessons found\n"
     ]
    }
   ],
   "source": [
    "lessonshold([2,22])"
   ]
  },
  {
   "cell_type": "code",
   "execution_count": 15,
   "metadata": {},
   "outputs": [
    {
     "name": "stdout",
     "output_type": "stream",
     "text": [
      "lessons found\n"
     ]
    }
   ],
   "source": [
    "lessonshold([3,8])"
   ]
  },
  {
   "cell_type": "code",
   "execution_count": 16,
   "metadata": {},
   "outputs": [
    {
     "name": "stdout",
     "output_type": "stream",
     "text": [
      "010000000000001100001111  -  4195087  -  [64, 3, 15]  -  ['@', '\\x03', '\\x0f']  - \" @\u0003\u000f \"\n",
      "000000000000000011111110  -  254  -  [0, 0, 254]  -  ['\\x00', '\\x00', 'þ']  - \" \u0000\u0000þ \"\n",
      "000000000000000000001110  -  14  -  [0, 0, 14]  -  ['\\x00', '\\x00', '\\x0e']  - \" \u0000\u0000\u000e \"\n",
      "lessons not found\n"
     ]
    }
   ],
   "source": [
    "lessonshold([1, 2, 3, 4, 5, 6, 7], verbose = 1)"
   ]
  },
  {
   "cell_type": "code",
   "execution_count": 17,
   "metadata": {},
   "outputs": [
    {
     "name": "stdout",
     "output_type": "stream",
     "text": [
      "lessons not found\n"
     ]
    }
   ],
   "source": [
    "lessonshold([1, 2, 4, 5, 6, 8])"
   ]
  }
 ],
 "metadata": {
  "kernelspec": {
   "display_name": "Python 3",
   "language": "python",
   "name": "python3"
  },
  "language_info": {
   "codemirror_mode": {
    "name": "ipython",
    "version": 3
   },
   "file_extension": ".py",
   "mimetype": "text/x-python",
   "name": "python",
   "nbconvert_exporter": "python",
   "pygments_lexer": "ipython3",
   "version": "3.6.1"
  }
 },
 "nbformat": 4,
 "nbformat_minor": 2
}
