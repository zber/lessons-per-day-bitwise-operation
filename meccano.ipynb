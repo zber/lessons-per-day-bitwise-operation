{
 "cells": [
  {
   "cell_type": "markdown",
   "metadata": {},
   "source": [
    "# Lessons per day"
   ]
  },
  {
   "cell_type": "markdown",
   "metadata": {},
   "source": [
    "the lessons_array is zero based!"
   ]
  },
  {
   "cell_type": "code",
   "execution_count": 24,
   "metadata": {},
   "outputs": [
    {
     "name": "stdout",
     "output_type": "stream",
     "text": [
      "[0, 1, 2, 3, 8, 9, 22]\n"
     ]
    }
   ],
   "source": [
    "lessons_array = [0, 1, 2, 3, 8, 9, 22] # lessons held that day\n",
    "print(lessons_array)"
   ]
  },
  {
   "cell_type": "code",
   "execution_count": 31,
   "metadata": {},
   "outputs": [
    {
     "name": "stdout",
     "output_type": "stream",
     "text": [
      "4195087\n"
     ]
    }
   ],
   "source": [
    "lessons_int = 0 # we want to use as little space as possible\n",
    "for lesson in lessons_array:\n",
    "    lessons_int += 2 ** lesson # we add the power of each lesson to our root integer\n",
    "print(lessons_int)"
   ]
  },
  {
   "cell_type": "code",
   "execution_count": 41,
   "metadata": {},
   "outputs": [
    {
     "name": "stdout",
     "output_type": "stream",
     "text": [
      "010000000000001100001111\n"
     ]
    }
   ],
   "source": [
    "lessons_bin = bin(lessons_int)[2:].zfill(24)\n",
    "# the binary string is human-readable: from right to left, the lessons hold are marked with 1\n",
    "print(lessons_bin)"
   ]
  },
  {
   "cell_type": "code",
   "execution_count": 42,
   "metadata": {},
   "outputs": [
    {
     "name": "stdout",
     "output_type": "stream",
     "text": [
      "12\n",
      "000000000000000000001100\n"
     ]
    }
   ],
   "source": [
    "lessons_query = [2,3] # we want to know, if these lessons are blocked\n",
    "lessons_query_int = 0\n",
    "for lesson in lessons_query:\n",
    "    lessons_query_int += 2 ** lesson\n",
    "print(lessons_query_int)\n",
    "lessons_query_bin = bin(lessons_query_int)[2:].zfill(24)\n",
    "print(lessons_query_bin)"
   ]
  },
  {
   "cell_type": "code",
   "execution_count": null,
   "metadata": {
    "collapsed": true
   },
   "outputs": [],
   "source": []
  }
 ],
 "metadata": {
  "kernelspec": {
   "display_name": "Python 3",
   "language": "python",
   "name": "python3"
  },
  "language_info": {
   "codemirror_mode": {
    "name": "ipython",
    "version": 3
   },
   "file_extension": ".py",
   "mimetype": "text/x-python",
   "name": "python",
   "nbconvert_exporter": "python",
   "pygments_lexer": "ipython3",
   "version": "3.6.1"
  }
 },
 "nbformat": 4,
 "nbformat_minor": 2
}
